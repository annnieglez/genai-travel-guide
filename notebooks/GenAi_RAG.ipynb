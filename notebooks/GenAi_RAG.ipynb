{
 "cells": [
  {
   "cell_type": "markdown",
   "metadata": {},
   "source": [
    "### Query Processing and Retrieval-Augmented Generation (RAG)\n",
    "\n",
    "This notebook demonstrates a workflow where user queries are processed and answered using a Retrieval-Augmented Generation (RAG) approach. The workflow involves the following steps:\n",
    "\n",
    "1. **Query Embedding**:\n",
    "    - The user provides a query.\n",
    "    - The query is embedded using the OpenAI API with the embedding model (`text-embedding-3-large`).\n",
    "\n",
    "2. **Relevant Chunk Retrieval**:\n",
    "    - The embedded query is used to retrieve relevant chunks from the `chramdb` database.\n",
    "    - These chunks are selected based on their relevance to the query.\n",
    "\n",
    "3. **Answer Generation**:\n",
    "    - The retrieved chunks are passed to the OpenAI API using the GPT-4 model (`gpt-4o`).\n",
    "        - The model generates an answer based solely on the information retrieved from the database.\n",
    "        - Queries will be saved in a pickle file `..\\chroma_db\\query_embeddings_cached` to reduce the number of calls and speed up response time.\n",
    "\n",
    "4. **LLM as a Judge**:\n",
    "    - The LLM model is used to evaluate the generated answers, providing a score and an explanation for the evaluation.\n",
    "\n",
    "5. **Examples of queries**:\n",
    "    - Results from some test queries are provided for reference.\n",
    "\n",
    "This notebook ensures that answers are grounded in the retrieved data, providing accurate and contextually relevant responses. Make sure to configure your OpenAI API key by running in the terminal:\n",
    "\n",
    "```bash\n",
    "echo OPENAI_API_KEY=\"\" > .env\n",
    "```\n",
    "\n",
    "Change `\"\"` with your `OPENAI_API_KEY`.\n",
    "\n",
    "To ensure the notebook functions as intended, `genai_scripts` modules (`GenAI_RAG` ) need to be installed by running `..\\setup.py` (more in the `README.md`)\n",
    "\n",
    "**🚨 Check the `README.me` before continuing with this notebook**\n"
   ]
  },
  {
   "cell_type": "code",
   "execution_count": 1,
   "metadata": {},
   "outputs": [],
   "source": [
    "# Enable auto-reload for modules during development\n",
    "%load_ext autoreload\n",
    "%autoreload 2\n",
    "\n",
    "# Load custom modules\n",
    "from genai_scripts import GenAI_RAG as rag"
   ]
  },
  {
   "cell_type": "markdown",
   "metadata": {},
   "source": [
    "# Let's talk"
   ]
  },
  {
   "cell_type": "code",
   "execution_count": 2,
   "metadata": {},
   "outputs": [
    {
     "name": "stdout",
     "output_type": "stream",
     "text": [
      "The Sky Lagoon is a new geothermal spa located just outside of Reykjavik, Iceland. It offers stunning views of the Atlantic Ocean, downtown Reykjavik, Snæfellsjökull glacier, and even a volcano. The lagoon is designed with Icelandic elements such as turf and lava rocks, and it features a unique 7-step Icelandic bathing ritual for relaxation. This ritual includes experiences such as indulging in the lagoon, a cold plunge, a sauna session, a cold mist, a body scrub, a steam room visit, and a refreshing shower to complete the process.\n",
      "\n",
      "The Sky Lagoon offers a luxurious experience, combining the ancient tradition of Icelandic saunas with modern amenities. The outdoor lagoon is fed by nearby geothermal springs, heating the water to a comfortable temperature, and it features an infinity edge with breathtaking views of the ocean and the Reykjavik city skyline.\n",
      "\n",
      "Various package options are available, each offering different prices. For example, the Pure package is priced at 11,500 Icelandic Krona. The Sky Lagoon tends to be less crowded than the Blue Lagoon, making it a preferred choice for many visitors. It's advisable to book tickets in advance.\n",
      "\n",
      "For more information or to book a visit, you can head over to their official site or booking platforms."
     ]
    }
   ],
   "source": [
    "rag.generate_response_from_gpt4o()"
   ]
  },
  {
   "cell_type": "markdown",
   "metadata": {},
   "source": [
    "# Using LLM as a judge"
   ]
  },
  {
   "cell_type": "code",
   "execution_count": 3,
   "metadata": {},
   "outputs": [
    {
     "name": "stdout",
     "output_type": "stream",
     "text": [
      "Query: What is Iceland currency?\n",
      "**Score:** 9\n",
      "\n",
      "**Explanation:**\n",
      "- **Correctness:** The AI's answer is correct. It accurately identifies the currency of Iceland as the Icelandic króna (ISK), which matches the information provided in the database.\n",
      "- **Completeness:** The answer is mostly complete. It includes the essential information about the currency name and its abbreviation. However, it could have mentioned that the króna is sometimes referred to as the Icelandic crown, as noted in the database, to provide a slightly fuller context.\n",
      "- **Conciseness:** The response is concise and to the point. It provides the necessary information without any unnecessary details, making it easy to understand.\n",
      "\n",
      "**Final Note:** The AI's answer is accurate and well-structured, though it could have included the alternative name \"Icelandic crown\" for a perfect score.\n"
     ]
    }
   ],
   "source": [
    "# Using LLM as a judge\n",
    "question = \"What is Iceland currency?\"\n",
    "response = rag.llm_as_judge(question)\n",
    "print(response)"
   ]
  },
  {
   "cell_type": "markdown",
   "metadata": {},
   "source": [
    "<div style=\"background-color:rgb(231, 207, 227); padding: 10px; border-radius: 5px; color: black;\">\n",
    "\n",
    "**What is Iceland currency?**\n",
    "\n",
    "**Score:** 9\n",
    "\n",
    "**Explanation:**\n",
    "- **Correctness:** The AI's answer is correct. It accurately identifies the currency of Iceland as the Icelandic króna (ISK), which matches the information provided in the database.\n",
    "- **Completeness:** The answer is mostly complete. It includes the essential information about the currency name and its abbreviation. However, it could have mentioned that the króna is sometimes referred to as the Icelandic crown, as noted in the database, to provide a slightly fuller context.\n",
    "- **Conciseness:** The response is concise and to the point. It provides the necessary information without any unnecessary details, making it easy to understand.\n",
    "\n",
    "**Final Note:** The AI's answer is accurate and well-structured, though it could have included the alternative name \"Icelandic crown\" for a perfect score."
   ]
  },
  {
   "cell_type": "code",
   "execution_count": 4,
   "metadata": {},
   "outputs": [
    {
     "name": "stdout",
     "output_type": "stream",
     "text": [
      "Query: What to do in Reykjavik, Iceland?\n",
      "**Score:** 9\n",
      "\n",
      "**Explanation:**\n",
      "\n",
      "- **Correctness:** The AI's answer is highly accurate and aligns well with the information provided in the database. It correctly identifies key attractions and activities in Reykjavik, such as Hallgrímskirkja Church, Harpa Concert Hall, Sun Voyager Sculpture, and the Blue Lagoon. It also accurately mentions cultural sites like the National Museum of Iceland and the Reykjavik Art Museum, as well as food recommendations like Bæjarins Beztu Pylsur and Café Loki. The details about nightlife, hiking, and snorkeling at Silfra Fissure are also consistent with the database.\n",
      "\n",
      "- **Completeness:** The response is comprehensive, covering a wide range of activities and attractions that a visitor might be interested in. It includes top sights, cultural and historical sites, food and drink options, tours, and outdoor activities. However, it could have mentioned some additional details, such as specific parks like Tjornin and Austurvollur, which are noted in the database.\n",
      "\n",
      "- **Conciseness:** The answer is clear and well-organized, making it easy for the reader to understand and follow. It provides a structured overview of what to do in Reykjavik without unnecessary elaboration, maintaining a balance between detail and brevity.\n",
      "\n",
      "**Final Note:** The AI's response is well-crafted and informative, capturing the essence of Reykjavik's attractions and activities. The minor omission of specific parks does not significantly detract from the overall quality of the answer.\n"
     ]
    }
   ],
   "source": [
    "# Using LLM as a judge\n",
    "question = \"What to do in Reykjavik, Iceland?\"\n",
    "response = rag.llm_as_judge(question)\n",
    "print(response)"
   ]
  },
  {
   "cell_type": "markdown",
   "metadata": {},
   "source": [
    "<div style=\"background-color:rgb(231, 207, 227); padding: 10px; border-radius: 5px; color: black;\">\n",
    "\n",
    "**What to do in Reykjavik, Iceland?**\n",
    "\n",
    "**Score:** 9\n",
    "\n",
    "**Explanation:**\n",
    "\n",
    "- **Correctness:** The AI's answer is highly accurate and aligns well with the information provided in the database. It correctly identifies key attractions and activities in Reykjavik, such as Hallgrímskirkja Church, Harpa Concert Hall, Sun Voyager Sculpture, and the Blue Lagoon. It also accurately mentions cultural sites like the National Museum of Iceland and the Reykjavik Art Museum, as well as food recommendations like Bæjarins Beztu Pylsur and Café Loki. The details about nightlife, hiking, and snorkeling at Silfra Fissure are also consistent with the database.\n",
    "\n",
    "- **Completeness:** The response is comprehensive, covering a wide range of activities and attractions that a visitor might be interested in. It includes top sights, cultural and historical sites, food and drink options, tours, and outdoor activities. However, it could have mentioned some additional details, such as specific parks like Tjornin and Austurvollur, which are noted in the database.\n",
    "\n",
    "- **Conciseness:** The answer is clear and well-organized, making it easy for the reader to understand and follow. It provides a structured overview of what to do in Reykjavik without unnecessary elaboration, maintaining a balance between detail and brevity.\n",
    "\n",
    "**Final Note:** The AI's response is well-crafted and informative, capturing the essence of Reykjavik's attractions and activities. The minor omission of specific parks does not significantly detract from the overall quality of the answer."
   ]
  },
  {
   "cell_type": "code",
   "execution_count": 5,
   "metadata": {},
   "outputs": [
    {
     "name": "stdout",
     "output_type": "stream",
     "text": [
      "Query: 3 hotel recommendations in Reykjavik, Iceland?\n",
      "**Score:** 8\n",
      "\n",
      "**Explanation:**\n",
      "\n",
      "- **Correctness:** The AI's answer is mostly correct. It accurately lists three hotels in Reykjavik, Iceland, and provides details that match the database information, such as location, overview, and price category. However, there is a mistake in the booking link for Hotel Reykjavík Centrum, which incorrectly points to a review for Siglo Hotel by Keahotels in Siglufjordur.\n",
      "\n",
      "- **Completeness:** The response includes relevant details about each hotel, such as location, overview, price category, and booking links. It provides a good summary of what each hotel offers, which is useful for someone looking for accommodation options in Reykjavik.\n",
      "\n",
      "- **Conciseness:** The answer is clear and to the point, providing essential information without unnecessary details. The structure is easy to follow, making it accessible for users seeking quick recommendations.\n",
      "\n",
      "**Final Note:** The primary error is the incorrect booking link for Hotel Reykjavík Centrum, which could mislead users. Correcting this link would improve the response's accuracy. Despite this, the overall quality of the answer is high, with comprehensive and concise information.\n"
     ]
    }
   ],
   "source": [
    "# Using LLM as a judge\n",
    "question = \"3 hotel recommendations in Reykjavik, Iceland?\"\n",
    "response = rag.llm_as_judge(question)\n",
    "print(response)"
   ]
  },
  {
   "cell_type": "markdown",
   "metadata": {},
   "source": [
    "<div style=\"background-color:rgb(231, 207, 227); padding: 10px; border-radius: 5px; color: black;\">\n",
    "\n",
    "**3 hotel recommendations in Reykjavik, Iceland?**\n",
    "\n",
    "**Score:** 8\n",
    "\n",
    "**Explanation:**\n",
    "\n",
    "- **Correctness:** The AI's answer is mostly correct. It accurately lists three hotels in Reykjavik, Iceland, and provides details that match the database information, such as location, overview, and price category. However, there is a mistake in the booking link for Hotel Reykjavík Centrum, which incorrectly points to a review for Siglo Hotel by Keahotels in Siglufjordur.\n",
    "\n",
    "- **Completeness:** The response includes relevant details about each hotel, such as location, overview, price category, and booking links. It provides a good summary of what each hotel offers, which is useful for someone looking for accommodation options in Reykjavik.\n",
    "\n",
    "- **Conciseness:** The answer is clear and to the point, providing essential information without unnecessary details. The structure is easy to follow, making it accessible for users seeking quick recommendations.\n",
    "\n",
    "**Final Note:** The primary error is the incorrect booking link for Hotel Reykjavík Centrum, which could mislead users. Correcting this link would improve the response's accuracy. Despite this, the overall quality of the answer is high, with comprehensive and concise information."
   ]
  },
  {
   "cell_type": "code",
   "execution_count": 6,
   "metadata": {},
   "outputs": [
    {
     "name": "stdout",
     "output_type": "stream",
     "text": [
      "Query: What to do in North Iceland?\n",
      "**Score:** 9\n",
      "\n",
      "**Explanation:**\n",
      "\n",
      "- **Correctness:** The AI's answer is largely correct and aligns well with the database information. It accurately lists the main sights, Jeannie's Gems, detours, and additional highlights in North Iceland as mentioned in the context. The details about Akureyri, Mývatn, and other locations are consistent with the provided data.\n",
      "\n",
      "- **Completeness:** The response is comprehensive, covering a wide range of activities and sights in North Iceland. It includes main attractions, lesser-known spots, accommodation options, and dining recommendations, which are all relevant to the user's question. However, it could have included more specific details about the activities available in each location, such as the specific tours or experiences mentioned in the context (e.g., whale watching tours in Húsavík).\n",
      "\n",
      "- **Conciseness:** The answer is clear and well-organized, making it easy to read and understand. It effectively summarizes the information without unnecessary elaboration, maintaining a balance between detail and brevity.\n",
      "\n",
      "**Final Note:** The AI's response is accurate and well-rounded, providing a thorough overview of what to do in North Iceland. It could be slightly improved by incorporating more specific activity details from the context, but overall, it serves the user's query effectively.\n"
     ]
    }
   ],
   "source": [
    "# Using LLM as a judge\n",
    "question = \"What to do in North Iceland?\"\n",
    "response = rag.llm_as_judge(question)\n",
    "print(response)"
   ]
  },
  {
   "cell_type": "markdown",
   "metadata": {},
   "source": [
    "<div style=\"background-color:rgb(231, 207, 227); padding: 10px; border-radius: 5px; color: black;\">\n",
    "\n",
    "**What to do in North Iceland?**\n",
    "\n",
    "**Score:** 9\n",
    "\n",
    "**Explanation:**\n",
    "\n",
    "- **Correctness:** The AI's answer is largely correct and aligns well with the database information. It accurately lists the main sights, Jeannie's Gems, detours, and additional highlights in North Iceland as mentioned in the context. The details about Akureyri, Mývatn, and other locations are consistent with the provided data.\n",
    "\n",
    "- **Completeness:** The response is comprehensive, covering a wide range of activities and sights in North Iceland. It includes main attractions, lesser-known spots, accommodation options, and dining recommendations, which are all relevant to the user's question. However, it could have included more specific details about the activities available in each location, such as the specific tours or experiences mentioned in the context (e.g., whale watching tours in Húsavík).\n",
    "\n",
    "- **Conciseness:** The answer is clear and well-organized, making it easy to read and understand. It effectively summarizes the information without unnecessary elaboration, maintaining a balance between detail and brevity.\n",
    "\n",
    "**Final Note:** The AI's response is accurate and well-rounded, providing a thorough overview of what to do in North Iceland. It could be slightly improved by incorporating more specific activity details from the context, but overall, it serves the user's query effectively."
   ]
  },
  {
   "cell_type": "markdown",
   "metadata": {},
   "source": [
    "# Query examples"
   ]
  },
  {
   "cell_type": "markdown",
   "metadata": {},
   "source": [
    "<div style=\"background-color:rgb(183, 180, 231); padding: 10px; border-radius: 5px; color: black;\">\n",
    "\n",
    "## **Top Sights in Reykjavik:**\n",
    "- **Hallgrímskirkja**: A striking church with an observation deck that provides panoramic views of the city.\n",
    "- **Sólfarið (Sun Voyager)**: A beautiful sculpture by the sea, ideal for photographs.\n",
    "- **Harpa Concert Hall**: A modern architectural marvel worth exploring inside.\n",
    "- **Tjörnin Pond**: A scenic spot for a leisurely stroll.\n",
    "- **Perlan**: A museum with exhibitions and a viewing platform that offers spectacular views.\n",
    "\n",
    "## **Things to Do:**\n",
    "- **Walking Tours**: Explore Reykjavik’s compact and walkable city center through various guided tours, such as the Free Walking Tour by Citywalk.\n",
    "- **Reykjavik Food Tour**: Sample traditional Icelandic food with Wake Up Reykjavik.\n",
    "- **Nightlife**: Experience vibrant nightlife around Laugavegur, Reykjavik's main shopping street filled with clubs, bars, and craft breweries.\n",
    "- **Shopping**: Explore Laugavegur for a bustling shopping experience.\n",
    "- **Thermal Pools**: Relax in one of the city’s famous geothermal pools.\n",
    "\n",
    "## **Museums and Culture:**\n",
    "- Visit museums such as the National Gallery of Iceland, Reykjavik Art Museum, National Museum of Iceland, and the City Museum.\n",
    "- **Festivals**: Attend cultural events like Culture Night in August, Gay Pride, Iceland Airwaves, Reykjavik International Film Festival, and Reykjavik Arts Festival.\n",
    "\n",
    "## **Outdoor Activities:**\n",
    "- **Hiking**: Enjoy easy access to spectacular hiking routes that include waterfalls, mountains, and beaches.\n",
    "- **Day Trips**: Consider trips to nearby attractions like the Blue Lagoon, Skogafoss, and various hot springs.\n",
    "\n",
    "## **Where to Eat:**\n",
    "- **Bæjarins Beztu Pylsur**: Famous for their hot dogs, a must-try and budget-friendly option.\n",
    "- **Café Loki**: Offers coffee and local delicacies with a view.\n",
    "- **Sægreifinn**: Known for seafood, especially their lobster soup.\n",
    "- **Fiskmarkaðurinn**: A more upscale dining option specializing in seafood.\n",
    "\n",
    "## **Where to Stay:**\n",
    "- **Icelandair Marina**: A trendy hotel next to the harbor.\n",
    "- **Kex Hotel**: A unique hostel in an old biscuit factory, perfect for budget travelers.\n",
    "\n",
    "Reykjavik is a lively city with colorful architecture, a growing foodie culture, and a vibrant art scene, making it a delightful destination to explore."
   ]
  },
  {
   "cell_type": "markdown",
   "metadata": {},
   "source": [
    "<div style=\"background-color:rgb(183, 180, 231); padding: 10px; border-radius: 5px; color: black;\">\n",
    "\n",
    "## **Nearby Attractions in Vík:**\n",
    "\n",
    "1. **Reynisfjara Black Sand Beach**:\n",
    "   - Known for its dramatic black sand, basalt columns, and spindly sea stacks.\n",
    "   - Caution: Be aware of “sneaker waves” which can be dangerous. Follow any posted warning signs.\n",
    "\n",
    "2. **Dyrhólaey**:\n",
    "   - Offers two main visiting areas: a hilltop viewpoint and a lower beach level.\n",
    "   - The hilltop viewpoint gives you views of \"The Endless Black Beach\" and the Dyrhólaey rock arch.\n",
    "   - Note: It can be very windy at the top.\n",
    "\n",
    "3. **Vík í Mýrdal Church**:\n",
    "   - A classic spot for photographs with its picturesque red roof against the backdrop of the surrounding landscape.\n",
    "\n",
    "4. **Hjörleifshöfði**:\n",
    "   - A great photo stop where the cave openings resemble Yoda from Star Wars. Parts of \"Rogue One\" were filmed here.\n",
    "\n",
    "5. **Fjaðrárgljúfur Canyon**:\n",
    "   - A striking canyon 320 feet deep and a mile long. It offers epic views with a short 10-15 minute walk.\n",
    "\n",
    "6. **Kvernufoss**:\n",
    "   - A hidden gem waterfall about 100 feet tall. You can walk behind the waterfall after a short 15-minute walk across a field.\n",
    "\n",
    "7. **Skógar Museum**:\n",
    "   - A regional folk museum with three different small museums and six historical buildings, including a replica turf house village.\n",
    "\n",
    "8. **Skógafoss**:\n",
    "   - A large waterfall that crashes into the river below, located in the nearby settlement of Skógar.\n",
    "\n",
    "9. **Maelifell Volcano**:\n",
    "   - Located in Myrdalsjökull Glacier Park north of Vík, known for its classic cone shape and lush green moss covering in the summer.\n",
    "\n",
    "These attractions offer a mix of natural beauty and cultural experiences, making them must-visit spots when you're around Vík."
   ]
  },
  {
   "cell_type": "markdown",
   "metadata": {},
   "source": [
    "<div style=\"background-color:rgb(183, 180, 231); padding: 10px; border-radius: 5px; color: black;\">\n",
    "\n",
    "## **What is the Blue Lagoon:**\n",
    "\n",
    "The Blue Lagoon is a geothermal spa located in a lava field in southwestern Iceland, approximately 20 km from Keflavík International Airport. It is one of the most visited attractions in Iceland. The lagoon is man-made and is filled with geothermal seawater, which is a mix of dissolved minerals and seawater. The milky blue color of the water is due to its high silica content, which also forms a mud layer that prevents water from seeping through the lava, creating the lagoon.\n",
    "\n",
    "The Blue Lagoon was initially used for therapeutic purposes, particularly for treating skin conditions like psoriasis, and it quickly became a popular bathing destination. The spa offers facilities such as saunas, steam rooms, a lagoon waterfall, and a viewing deck. It also has a store that sells silica-based skincare products, the Retreat Spa for a luxury experience, and dining options ranging from cafes to gourmet restaurants.\n",
    "\n",
    "The water temperature generally ranges between 37°C and 40°C (98-104°F), and the lagoon is a self-cleaning ecosystem, meaning disinfectants like chlorine are not needed. The Blue Lagoon is accessible to guests with special needs and requires advance booking as it tends to get fully booked weeks in advance.\n",
    "\n",
    "Address: Norðurljósavegur 9, 240 Grindavík, Iceland."
   ]
  },
  {
   "cell_type": "markdown",
   "metadata": {},
   "source": [
    "<div style=\"background-color:rgb(183, 180, 231); padding: 10px; border-radius: 5px; color: black;\">\n",
    "\n",
    "## **Where can I rent a car in Iceland**\n",
    "\n",
    "You can rent a car at Keflavik Airport in Iceland with several options available for pick-up and shuttle services:\n",
    "\n",
    "1. **Blue Car Rental**\n",
    "   - Location: Near Keflavik Airport\n",
    "   - Overview: Offers a diverse fleet including compact cars, 4x4s, and SUVs, tailored for Iceland’s conditions. Known for exceptional service and transparent pricing.\n",
    "   - Website: [Blue Car Rental](https://www.bluecarrental.is/)\n",
    "\n",
    "2. **Car Rental Services in Arrival Hall**\n",
    "   - Locations include:\n",
    "     - Viðarhöfði 6 (Driver picks up from arrival hall) \n",
    "     - Flugvellir 6 (Driver picks up from arrival hall)\n",
    "     - Framnesvegure 19c (Call for pick-up)\n",
    "     - Arnarvelli 4 (Car Rental Shuttle)\n",
    "     - Blikavelli 3 (Car Rental Shuttle)\n",
    "     - Selvík 5 (Driver picks up from arrival hall)\n",
    "\n",
    "For more information, you can contact these services at their respective phone numbers provided in the database.\n",
    "\n",
    "If you plan to explore further into Iceland's interior or need a specialty vehicle, booking in advance is recommended to ensure availability and potentially save on costs."
   ]
  },
  {
   "cell_type": "markdown",
   "metadata": {},
   "source": [
    "<div style=\"background-color:rgb(183, 180, 231); padding: 10px; border-radius: 5px; color: black;\">\n",
    "\n",
    "## **Where to eat in Reykjavik**\n",
    "\n",
    "### 1. Fiskmarkaðurinn (The Fishmarket)\n",
    "- **Type of Cuisine**: Modern Icelandic with an Asian twist\n",
    "- **Price Range**: Expensive\n",
    "- **Location**: Aðalstræti 12, Reykjavík, Iceland\n",
    "- **Opening Hours**: \n",
    "  - Mon – Thur: 5:00 PM – 10:00 PM\n",
    "  - Fri – Sat: 5:00 PM – 10:30 PM\n",
    "  - Sun: 5:00 PM – 10:00 PM\n",
    "- **Website**: [Fiskmarkaðurinn](https://www.fiskmarkadurinn.is/the-fishmarket)\n",
    "\n",
    "### 2. Sægreifinn (Saegreifinn Restaurant)\n",
    "- **Type of Cuisine**: Seafood, famous for lobster soup\n",
    "- **Price Range**: Budget-friendly\n",
    "- **Location**: Geirsgata 4a, Reykjavík 101 Iceland\n",
    "- **Opening Hours**: \n",
    "  - Mon-Sun: 11:30 AM – 4:00 PM and 6:00 PM – 10:00 PM\n",
    "  - Closed between 4:00 PM and 6:00 PM daily\n",
    "- **Website**: [Sægreifinn](https://www.facebook.com/saegreifinn.seabaron)\n",
    "\n",
    "### 3. Snaps\n",
    "- **Type of Cuisine**: French bistro\n",
    "- **Price Range**: Moderate\n",
    "- **Location**: Þórsgata 1, 101 Reykjavík\n",
    "- **Opening Hours**: \n",
    "  - Breakfast: 07:00 AM – 10:00 AM\n",
    "  - Brunch: 11:30 AM – 4:00 PM\n",
    "  - Dinner: 4:00 PM – 11:30 PM\n",
    "- **Website**: [Snaps](https://www.snaps.is/en)\n",
    "\n",
    "### 4. Ginger Restaurant\n",
    "- **Type of Cuisine**: Healthy dishes, vegetarian options\n",
    "- **Price Range**: Budget-friendly\n",
    "- **Opening Hours**: \n",
    "  - Mon-Fri: 11:00 AM – 8:00 PM\n",
    "  - Sat and Sun: 11:30 AM – 8:00 PM\n",
    "\n",
    "### 5. Kex Hostel Restaurant\n",
    "- **Type of Cuisine**: Various, located in a popular hostel\n",
    "- **Price Range**: Moderate\n",
    "- **Location**: Downtown Reykjavík, part of Kex Hostel\n",
    "\n",
    "### 6. Bæjarins Beztu Pylsur\n",
    "- **Type of Cuisine**: Hot dogs\n",
    "- **Price Range**: Budget-friendly\n",
    "- **Location**: Downtown Reykjavík\n",
    "\n",
    "### 7. Fish and Chips Vagninn\n",
    "- **Type of Cuisine**: Classic fish and chips\n",
    "- **Price Range**: Budget-friendly\n",
    "- **Opening Hours**: Mon-Sun: 11:00 AM – 9:00 PM\n",
    "\n",
    "For more dining options and to explore Reykjavík's diverse food scene, consider trying these restaurants that cater to a variety of tastes and budgets."
   ]
  },
  {
   "cell_type": "markdown",
   "metadata": {},
   "source": [
    "<div style=\"background-color:rgb(183, 180, 231); padding: 10px; border-radius: 5px; color: black;\">\n",
    "\n",
    "## **Where to eat pizza**\n",
    "\n",
    "Here's a selection of places to enjoy pizza in Iceland, spanning different regions and price ranges:\n",
    "\n",
    "### **Íshúsið Pizzeria (Ishusid)**\n",
    "- **Location**: Heppuvegur 2a, Höfn 780\n",
    "- **Cuisine**: Pizza\n",
    "- **Opening Hours**: 5:00 PM – 9:00 PM daily\n",
    "- **Website**: [ishusidpizzeria.is](https://ishusidpizzeria.is/home-old/)\n",
    "- **Overview**: Set in a beautifully restored old ice house, Íshúsið Pizzeria offers pizzas with crispy, flavorful crusts and fresh, local toppings. It won Tripadvisor’s Traveler’s Choice award in 2022 and offers stunning views overlooking the harbor.\n",
    "\n",
    "### **Glósteinn Pizzeria**\n",
    "- **Cuisine**: Pizza\n",
    "- **Price**: $\n",
    "- **Opening Hours**: \n",
    "  - Monday: 5:00 PM - 9:00 PM\n",
    "  - Tuesday-Friday: 11:00 AM - 9:00 PM\n",
    "  - Saturday-Sunday: 4:30 PM - 9:00 PM\n",
    "- **Overview**: Known for pizzas with a thin, crispy sourdough crust. They offer vegan pizzas and salads, along with a play area for kids.\n",
    "\n",
    "### **Bryggjan**\n",
    "- **Location**: Strandgata 49, Akureyri\n",
    "- **Cuisine**: Pizza, Ribs, Burgers\n",
    "- **Opening Hours**: \n",
    "  - Sunday-Thursday: 11:30 AM – 9:30 PM\n",
    "  - Friday-Saturday: 11:30 AM – 12:00 AM\n",
    "- **Overview**: Located right on the harbor in a historic building, Bryggjan offers a cozy atmosphere with a daily pizza buffet at a reasonable price.\n",
    "\n",
    "### **Domino's Pizza, Fitjar**\n",
    "- **Location**: Fitjar 2, Reykjanesbaer 260\n",
    "- **Cuisine**: Pizza\n",
    "- **Price**: Medium budget\n",
    "- **Overview**: Domino's is a leading fast-food pizza chain in Iceland, with multiple locations including in Akureyri, Akranes, and Selfoss.\n",
    "\n",
    "These options cover a range of settings and budgets, from cozy local spots to popular fast-food chains."
   ]
  },
  {
   "cell_type": "markdown",
   "metadata": {},
   "source": [
    "<div style=\"background-color:rgb(183, 180, 231); padding: 10px; border-radius: 5px; color: black;\">\n",
    "\n",
    "## **Where to eat in Iceland**\n",
    "\n",
    "Iceland offers a diverse range of dining options across various regions, catering to different tastes and budgets. Here are some of the notable restaurants:\n",
    "\n",
    "### **Reykjavík**\n",
    "1. **Fiskmarkaðurinn (The Fishmarket)**\n",
    "   - **Type of Cuisine**: Modern Icelandic with an Asian twist\n",
    "   - **Price Range**: Expensive\n",
    "   - **Location**: Aðalstræti 12, Reykjavík, Iceland\n",
    "   - **Hours**: Mon – Thur 5:00 PM – 10:00 PM, Fri – Sat 5:00 PM – 10:30 PM, Sun 5:00 PM – 10:00 PM\n",
    "   - **Website**: [Fiskmarkaðurinn](https://www.fiskmarkadurinn.is/the-fishmarket)\n",
    "   - **Reservations**: +354 578 8877\n",
    "\n",
    "2. **Sægreifinn (Saegreifinn Restaurant)**\n",
    "   - **Type of Cuisine**: Seafood\n",
    "   - **Price Range**: Budget-friendly\n",
    "   - **Location**: Geirsgata 4a, Reykjavík 101 Iceland\n",
    "   - **Hours**: Mon-Sun 11:30 AM – 4:00 PM and 6:00 PM – 10:00 PM\n",
    "   - **Website**: [Saegreifinn Facebook](https://www.facebook.com/saegreifinn.seabaron)\n",
    "   - **Reservations**: +354 553 1500\n",
    "\n",
    "3. **Snaps**\n",
    "   - **Type of Cuisine**: French Bistro\n",
    "   - **Price Range**: Moderate\n",
    "   - **Location**: Þórsgata 1, 101 Reykjavík\n",
    "   - **Hours**: Breakfast: 07:00 AM – 10:00 AM, Brunch: 11:30 AM – 4:00 PM, Dinner: 4:00 PM – 11:30 PM\n",
    "   - **Website**: [Snaps](https://www.snaps.is/en)\n",
    "   - **Reservations**: +354 511 6677\n",
    "\n",
    "### **South Iceland**\n",
    "- **Friðheimar Farm (Fridheimar Restaurant)**\n",
    "  - Enjoy a unique dining experience surrounded by tomato plants with dishes centered around freshly grown produce.\n",
    "\n",
    "### **East Iceland**\n",
    "- **Íshúsið Pizzeria (Ishusid)**\n",
    "  - **Type of Cuisine**: Pizza\n",
    "  - **Location**: Heppuvegur 2a, Höfn 780\n",
    "  - **Hours**: 5:00 PM – 9:00 PM daily\n",
    "  - **Website**: [Íshúsið Pizzeria](https://ishusidpizzeria.is/home-old/)\n",
    "  - **Reservations**: +354 4781 230\n",
    "\n",
    "- **Nielsen Restaurant**\n",
    "  - **Pro Tip**: Try the reindeer with wild blueberry sauce.\n",
    "  - **Location**: Tjarnarbraut 1, Egilsstaðir\n",
    "  - **Hours**: Tues-Fri 6:00 PM – 9:00 PM\n",
    "  - **Website**: [Nielsen Restaurant](https://nielsenrestaurant.is/?lang=en)\n",
    "  - **Reservations**: +354-471-2001\n",
    "\n",
    "### **North Iceland**\n",
    "- **Kaffi Ilmur** and **Bryggjan** offer casual dining with local favorites in Akureyri.\n",
    "\n",
    "### **Westfjords**\n",
    "- **Tjöruhúsið in Ísafjörður** offers fresh seafood in a unique setting.\n",
    "\n",
    "These options provide a mix of budget-friendly to high-end dining experiences with a variety of cuisines to choose from. Enjoy exploring Iceland's culinary scene!"
   ]
  },
  {
   "cell_type": "markdown",
   "metadata": {},
   "source": [
    "<div style=\"background-color:rgb(183, 180, 231); padding: 10px; border-radius: 5px; color: black;\">\n",
    "\n",
    "## **What to Do in North Iceland**\n",
    "\n",
    "North Iceland is a captivating region with diverse landscapes and attractions, offering a unique travel experience. Here's a guide to some of the best things to do in North Iceland:\n",
    "\n",
    "### **Main Sights**\n",
    "- **Dettifoss**: Known as one of Europe's most powerful waterfalls.\n",
    "- **Mývatn Area**: A unique landscape with geothermal mud pits, craters, and nature baths.\n",
    "- **Goðafoss**: A beautiful waterfall with historical significance.\n",
    "- **Akureyri**: Iceland's second-largest city, known as the \"capital of the North,\" offering a mix of cultural attractions and natural beauty.\n",
    "\n",
    "### **Jeannie's Gems**\n",
    "- **Selfoss Waterfall**: A scenic waterfall worth visiting.\n",
    "- **Krafla + Leirhnjúkur**: Volcanic landscapes with steaming vents and colorful deposits.\n",
    "- **Hvítserkur**: A striking rock formation on the beach.\n",
    "- **Kolugljúfur**: A gorge with waterfalls and breathtaking views.\n",
    "\n",
    "### **Detours**\n",
    "- **Ásbyrgi Canyon**: A horseshoe-shaped canyon with hiking opportunities.\n",
    "- **Húsavík**: Renowned for whale watching, with tours available from the charming fishing village.\n",
    "- **Tröllaskagi Peninsula**: Offers beautiful drives and attractions such as the Herring Era Museum in Siglufjörður and the infinity-style swimming pool at Hofsós.\n",
    "- **Grímsey**: An island just off the coast, accessible for a unique adventure.\n",
    "\n",
    "### **Where to Eat**\n",
    "- **Akureyri**: Offers diverse dining options such as Bautinn for traditional Icelandic food, Múlaberg for a delicious lamb burger, and Akureyri Fish and Chips for the town's best fish soup.\n",
    "- **Mývatn**: Dining options include Vogafjós Cowshed Cafe and Daddi’s Pizza.\n",
    "\n",
    "### **Where to Stay**\n",
    "- **Akureyri**: Options include K16 Apartments, Hotel North, and Viking Cottages & Apartments, all offering various amenities and stunning views.\n",
    "- **Mývatn**: Accommodations include Hótel Laxá and Guesthouse Stöng, both offering convenient locations near popular attractions.\n",
    "\n",
    "### **Activities & Tours**\n",
    "- **Whale Watching in Húsavík**: Known for being the best place in Iceland to watch whales.\n",
    "- **Hiking and Exploring**: Ásbyrgi and the surrounding areas offer excellent hiking opportunities.\n",
    "- **Swimming**: Hofsós Sundlaug provides a nearly-infinity-style swimming experience with incredible fjord views.\n",
    "\n",
    "North Iceland is a region of stark contrasts and unique beauty, offering a wide array of activities and sights to explore. Whether you're interested in natural wonders, cultural experiences, or just a quiet moment in a stunning landscape, North Iceland has something to offer."
   ]
  },
  {
   "cell_type": "markdown",
   "metadata": {},
   "source": [
    "<div style=\"background-color:rgb(183, 180, 231); padding: 10px; border-radius: 5px; color: black;\">\n",
    "\n",
    "## **Hidden gems in Iceland**\n",
    "\n",
    "Iceland is full of hidden gems that offer unique and less crowded experiences. Here are some noteworthy spots:\n",
    "\n",
    "1. **Kerið Volcanic Crater**: Located in the Grímsnes area in South Iceland, this volcanic crater is filled with milky blue water and offers stunning views, especially in summer or autumn.\n",
    "\n",
    "2. **Brúarfoss Waterfall**: Known for its incredible electric blue water, Brúarfoss is a hidden gem located between Laugarvatn and Geysir. The hike is about 7 km round-trip, passing by a couple of smaller waterfalls.\n",
    "\n",
    "3. **Landbrotalaug Hot Spring**: Situated on the Snæfellsnes Peninsula, this secluded spring is deep enough for a couple of people and offers a tranquil soaking experience away from the crowds.\n",
    "\n",
    "4. **Hörghlíðarlaug Hot Spring**: Located in the Westfjords, this remote spring overlooks the sea. It is perched on the eastern edge of Mjóifjörður and provides a peaceful retreat.\n",
    "\n",
    "5. **Grænavatn Crater**: Found on the Reykjanes Peninsula, this volcanic crater is filled with milky green water due to the unique mix of minerals.\n",
    "\n",
    "6. **Foss Hot Spring**: Near Akureyri, this unnamed hot spring sits atop a waterfall with views of the ocean and the town across the bay. It's accessible via Route 83 down a gravel road.\n",
    "\n",
    "These locations provide a more intimate experience with Iceland's natural beauty, away from the typical tourist routes."
   ]
  },
  {
   "cell_type": "markdown",
   "metadata": {},
   "source": [
    "<div style=\"background-color:rgb(183, 180, 231); padding: 10px; border-radius: 5px; color: black;\">\n",
    "\n",
    "## **How to go from KEF airport to Reykjavik**\n",
    "\n",
    "To get from Keflavik International Airport (KEF) to Reykjavik, you have several options:\n",
    "\n",
    "1. **Flybus Airport Transfer Service**: \n",
    "   - The Flybus runs between Keflavik Airport and the BSÍ Bus Terminal in Reykjavik. It departs 40 minutes after each plane lands and more frequently during rush hours. Tickets can be purchased online, in vending machines at the airport, or on board the bus.\n",
    "\n",
    "2. **Taxi**: \n",
    "   - Taxis are available at the airport, but they are quite expensive. A regular taxi ride to Reykjavik can cost approximately 100 € (120 $), and more if not booked in advance.\n",
    "\n",
    "3. **Car Rentals**: \n",
    "   - Renting a car is a convenient option if you plan to explore more of Iceland. Companies like Sixt, Enterprise, and Hertz have offices at the airport. It's a 45-minute drive to Reykjavik along Route 41, with scenic views of lava fields.\n",
    "\n",
    "4. **Shuttle Bus Services**:\n",
    "   - Alternatives like Airport Direct also provide shuttle services between the airport and Reykjavik.\n",
    "\n",
    "Public transportation in Iceland can be limited, so renting a car or using shuttle services is recommended for flexibility and convenience."
   ]
  },
  {
   "cell_type": "markdown",
   "metadata": {},
   "source": [
    "<div style=\"background-color:rgb(183, 180, 231); padding: 10px; border-radius: 5px; color: black;\">\n",
    "\n",
    "## **What is Iceland capital**\n",
    "\n",
    "The capital of Iceland is Reykjavík. It is the largest city in Iceland and is located in the southwestern part of the country, on the southern shore of Faxaflói Bay. Reykjavík is the world's northernmost capital of a sovereign state."
   ]
  },
  {
   "cell_type": "markdown",
   "metadata": {},
   "source": [
    "<div style=\"background-color:rgb(183, 180, 231); padding: 10px; border-radius: 5px; color: black;\">\n",
    "\n",
    "## **What is Iceland currency**\n",
    "\n",
    "Iceland's official currency is the Icelandic króna (ISK), sometimes referred to as the Icelandic crown."
   ]
  }
 ],
 "metadata": {
  "kernelspec": {
   "display_name": "genai",
   "language": "python",
   "name": "python3"
  },
  "language_info": {
   "codemirror_mode": {
    "name": "ipython",
    "version": 3
   },
   "file_extension": ".py",
   "mimetype": "text/x-python",
   "name": "python",
   "nbconvert_exporter": "python",
   "pygments_lexer": "ipython3",
   "version": "3.10.0"
  }
 },
 "nbformat": 4,
 "nbformat_minor": 2
}
